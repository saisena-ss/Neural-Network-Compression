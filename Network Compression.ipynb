{
  "cells": [
    {
      "cell_type": "code",
      "execution_count": 1,
      "metadata": {
        "id": "u3McJO88ggqH"
      },
      "outputs": [],
      "source": [
        "import tensorflow as tf\n",
        "import numpy as np\n",
        "import time\n",
        "import matplotlib.pyplot as plt\n",
        "import json\n",
        "import pickle\n",
        "import librosa\n",
        "import os\n",
        "import soundfile as sf\n",
        "from IPython.display import Audio, display\n",
        "plt.style.use('default')"
      ]
    },
    {
      "cell_type": "code",
      "execution_count": 2,
      "metadata": {
        "colab": {
          "base_uri": "https://localhost:8080/"
        },
        "id": "Ogw4XSqW8Sba",
        "outputId": "36925c7d-a128-41a0-9c30-c8f71cd896b0"
      },
      "outputs": [
        {
          "name": "stdout",
          "output_type": "stream",
          "text": [
            "Mounted at /content/drive\n"
          ]
        }
      ],
      "source": [
        "from google.colab import drive\n",
        "drive.mount('/content/drive')"
      ]
    },
    {
      "cell_type": "code",
      "execution_count": 2,
      "metadata": {
        "id": "F822Ener4O99"
      },
      "outputs": [],
      "source": [
        "data_folder = r'/content/drive/MyDrive/'"
      ]
    },
    {
      "cell_type": "code",
      "execution_count": null,
      "metadata": {
        "colab": {
          "base_uri": "https://localhost:8080/"
        },
        "id": "Uvr9BKTIgpxk",
        "outputId": "5626fa5d-a84d-4655-e1d6-212ce57855f3"
      },
      "outputs": [
        {
          "name": "stdout",
          "output_type": "stream",
          "text": [
            "Downloading data from https://storage.googleapis.com/tensorflow/tf-keras-datasets/mnist.npz\n",
            "11490434/11490434 [==============================] - 1s 0us/step\n"
          ]
        }
      ],
      "source": [
        "#load mnist data\n",
        "mnist = tf.keras.datasets.mnist\n",
        "(x_train,y_train),(x_test,y_test) = mnist.load_data()\n",
        "\n",
        "#normalizing\n",
        "x_train = x_train/255\n",
        "x_test = x_test/255"
      ]
    },
    {
      "cell_type": "code",
      "execution_count": null,
      "metadata": {
        "id": "hAIQ6-lggtOa"
      },
      "outputs": [],
      "source": [
        "#reshaping input 28 x 28 to 784 dimensional vector for train and test\n",
        "x_train = x_train.reshape((x_train.shape[0],x_train.shape[1]*x_train.shape[2]))\n",
        "x_test = x_test.reshape((x_test.shape[0],x_test.shape[1]*x_test.shape[2]))"
      ]
    },
    {
      "cell_type": "code",
      "execution_count": null,
      "metadata": {
        "colab": {
          "base_uri": "https://localhost:8080/"
        },
        "id": "W3vNvNlPgxGC",
        "outputId": "e5db6e1d-64cd-4552-f1fa-006ad0bb8009"
      },
      "outputs": [
        {
          "name": "stdout",
          "output_type": "stream",
          "text": [
            "training shape : (60000, 784)\n",
            "training shape : (10000, 784)\n"
          ]
        }
      ],
      "source": [
        "#printing shape after reshaping\n",
        "print(f\"training shape : {x_train.shape}\")\n",
        "print(f\"training shape : {x_test.shape}\")"
      ]
    },
    {
      "cell_type": "markdown",
      "metadata": {
        "id": "CcC9Hynzd6EM"
      },
      "source": [
        "# Baseline Model"
      ]
    },
    {
      "cell_type": "code",
      "execution_count": null,
      "metadata": {
        "colab": {
          "base_uri": "https://localhost:8080/"
        },
        "id": "3i_vqE-3gzCq",
        "outputId": "06b57aec-fcd1-4510-e76a-2fd2f5f98fb8"
      },
      "outputs": [
        {
          "name": "stdout",
          "output_type": "stream",
          "text": [
            "Epoch 1/200\n",
            "59/59 [==============================] - 3s 18ms/step - loss: 0.4103 - sparse_categorical_accuracy: 0.8799 - val_loss: 0.1543 - val_sparse_categorical_accuracy: 0.9519\n",
            "Epoch 2/200\n",
            "59/59 [==============================] - 1s 13ms/step - loss: 0.1140 - sparse_categorical_accuracy: 0.9665 - val_loss: 0.0965 - val_sparse_categorical_accuracy: 0.9706\n",
            "Epoch 3/200\n",
            "59/59 [==============================] - 1s 13ms/step - loss: 0.0664 - sparse_categorical_accuracy: 0.9802 - val_loss: 0.0806 - val_sparse_categorical_accuracy: 0.9767\n",
            "Epoch 4/200\n",
            "59/59 [==============================] - 1s 13ms/step - loss: 0.0430 - sparse_categorical_accuracy: 0.9875 - val_loss: 0.0761 - val_sparse_categorical_accuracy: 0.9774\n",
            "Epoch 5/200\n",
            "59/59 [==============================] - 1s 13ms/step - loss: 0.0282 - sparse_categorical_accuracy: 0.9916 - val_loss: 0.0654 - val_sparse_categorical_accuracy: 0.9801\n",
            "Epoch 6/200\n",
            "59/59 [==============================] - 1s 13ms/step - loss: 0.0154 - sparse_categorical_accuracy: 0.9956 - val_loss: 0.0679 - val_sparse_categorical_accuracy: 0.9813\n",
            "Epoch 7/200\n",
            "59/59 [==============================] - 1s 15ms/step - loss: 0.0112 - sparse_categorical_accuracy: 0.9968 - val_loss: 0.0750 - val_sparse_categorical_accuracy: 0.9794\n",
            "Epoch 8/200\n",
            "59/59 [==============================] - 1s 15ms/step - loss: 0.0071 - sparse_categorical_accuracy: 0.9982 - val_loss: 0.0838 - val_sparse_categorical_accuracy: 0.9792\n",
            "Epoch 9/200\n",
            "59/59 [==============================] - 1s 16ms/step - loss: 0.0044 - sparse_categorical_accuracy: 0.9991 - val_loss: 0.0763 - val_sparse_categorical_accuracy: 0.9801\n",
            "Epoch 10/200\n",
            "59/59 [==============================] - 1s 13ms/step - loss: 0.0032 - sparse_categorical_accuracy: 0.9993 - val_loss: 0.0697 - val_sparse_categorical_accuracy: 0.9817\n",
            "Epoch 11/200\n",
            "59/59 [==============================] - 1s 13ms/step - loss: 0.0011 - sparse_categorical_accuracy: 0.9999 - val_loss: 0.0739 - val_sparse_categorical_accuracy: 0.9815\n",
            "Epoch 12/200\n",
            "59/59 [==============================] - 1s 15ms/step - loss: 3.8874e-04 - sparse_categorical_accuracy: 1.0000 - val_loss: 0.0711 - val_sparse_categorical_accuracy: 0.9837\n",
            "Epoch 13/200\n",
            "59/59 [==============================] - 1s 13ms/step - loss: 2.0423e-04 - sparse_categorical_accuracy: 1.0000 - val_loss: 0.0720 - val_sparse_categorical_accuracy: 0.9830\n",
            "Epoch 14/200\n",
            "59/59 [==============================] - 1s 13ms/step - loss: 1.4987e-04 - sparse_categorical_accuracy: 1.0000 - val_loss: 0.0734 - val_sparse_categorical_accuracy: 0.9832\n",
            "Epoch 15/200\n",
            "59/59 [==============================] - 1s 13ms/step - loss: 1.2248e-04 - sparse_categorical_accuracy: 1.0000 - val_loss: 0.0744 - val_sparse_categorical_accuracy: 0.9833\n",
            "Epoch 16/200\n",
            "59/59 [==============================] - 1s 13ms/step - loss: 1.0263e-04 - sparse_categorical_accuracy: 1.0000 - val_loss: 0.0754 - val_sparse_categorical_accuracy: 0.9832\n",
            "Epoch 17/200\n",
            "59/59 [==============================] - 1s 13ms/step - loss: 8.8622e-05 - sparse_categorical_accuracy: 1.0000 - val_loss: 0.0765 - val_sparse_categorical_accuracy: 0.9829\n",
            "Epoch 18/200\n",
            "59/59 [==============================] - 1s 13ms/step - loss: 7.7879e-05 - sparse_categorical_accuracy: 1.0000 - val_loss: 0.0769 - val_sparse_categorical_accuracy: 0.9830\n",
            "Epoch 19/200\n",
            "59/59 [==============================] - 1s 13ms/step - loss: 6.8788e-05 - sparse_categorical_accuracy: 1.0000 - val_loss: 0.0783 - val_sparse_categorical_accuracy: 0.9831\n",
            "Epoch 20/200\n",
            "59/59 [==============================] - 1s 13ms/step - loss: 6.1377e-05 - sparse_categorical_accuracy: 1.0000 - val_loss: 0.0790 - val_sparse_categorical_accuracy: 0.9831\n",
            "Epoch 21/200\n",
            "59/59 [==============================] - 1s 13ms/step - loss: 5.5090e-05 - sparse_categorical_accuracy: 1.0000 - val_loss: 0.0799 - val_sparse_categorical_accuracy: 0.9830\n",
            "Epoch 22/200\n",
            "59/59 [==============================] - 1s 14ms/step - loss: 4.9803e-05 - sparse_categorical_accuracy: 1.0000 - val_loss: 0.0805 - val_sparse_categorical_accuracy: 0.9830\n",
            "Epoch 23/200\n",
            "59/59 [==============================] - 1s 15ms/step - loss: 4.5005e-05 - sparse_categorical_accuracy: 1.0000 - val_loss: 0.0813 - val_sparse_categorical_accuracy: 0.9831\n",
            "Epoch 24/200\n",
            "59/59 [==============================] - 1s 16ms/step - loss: 4.1203e-05 - sparse_categorical_accuracy: 1.0000 - val_loss: 0.0817 - val_sparse_categorical_accuracy: 0.9829\n",
            "Epoch 25/200\n",
            "59/59 [==============================] - 1s 13ms/step - loss: 3.7772e-05 - sparse_categorical_accuracy: 1.0000 - val_loss: 0.0824 - val_sparse_categorical_accuracy: 0.9831\n",
            "Epoch 26/200\n",
            "59/59 [==============================] - 1s 14ms/step - loss: 3.4845e-05 - sparse_categorical_accuracy: 1.0000 - val_loss: 0.0828 - val_sparse_categorical_accuracy: 0.9830\n",
            "Epoch 27/200\n",
            "59/59 [==============================] - 1s 13ms/step - loss: 3.1912e-05 - sparse_categorical_accuracy: 1.0000 - val_loss: 0.0836 - val_sparse_categorical_accuracy: 0.9830\n",
            "Epoch 28/200\n",
            "59/59 [==============================] - 1s 13ms/step - loss: 2.9630e-05 - sparse_categorical_accuracy: 1.0000 - val_loss: 0.0842 - val_sparse_categorical_accuracy: 0.9832\n",
            "Epoch 29/200\n",
            "59/59 [==============================] - 1s 13ms/step - loss: 2.7417e-05 - sparse_categorical_accuracy: 1.0000 - val_loss: 0.0848 - val_sparse_categorical_accuracy: 0.9832\n",
            "Epoch 30/200\n",
            "59/59 [==============================] - 1s 13ms/step - loss: 2.5436e-05 - sparse_categorical_accuracy: 1.0000 - val_loss: 0.0856 - val_sparse_categorical_accuracy: 0.9829\n",
            "Epoch 31/200\n",
            "59/59 [==============================] - 1s 13ms/step - loss: 2.3523e-05 - sparse_categorical_accuracy: 1.0000 - val_loss: 0.0861 - val_sparse_categorical_accuracy: 0.9832\n",
            "Epoch 32/200\n",
            "59/59 [==============================] - 1s 13ms/step - loss: 2.1882e-05 - sparse_categorical_accuracy: 1.0000 - val_loss: 0.0867 - val_sparse_categorical_accuracy: 0.9832\n",
            "Epoch 33/200\n",
            "59/59 [==============================] - 1s 13ms/step - loss: 2.0408e-05 - sparse_categorical_accuracy: 1.0000 - val_loss: 0.0873 - val_sparse_categorical_accuracy: 0.9832\n",
            "Epoch 34/200\n",
            "59/59 [==============================] - 1s 13ms/step - loss: 1.9108e-05 - sparse_categorical_accuracy: 1.0000 - val_loss: 0.0879 - val_sparse_categorical_accuracy: 0.9831\n",
            "Epoch 35/200\n",
            "59/59 [==============================] - 1s 13ms/step - loss: 1.7900e-05 - sparse_categorical_accuracy: 1.0000 - val_loss: 0.0881 - val_sparse_categorical_accuracy: 0.9833\n",
            "Epoch 36/200\n",
            "59/59 [==============================] - 1s 13ms/step - loss: 1.6701e-05 - sparse_categorical_accuracy: 1.0000 - val_loss: 0.0888 - val_sparse_categorical_accuracy: 0.9832\n",
            "Epoch 37/200\n",
            "59/59 [==============================] - 1s 14ms/step - loss: 1.5675e-05 - sparse_categorical_accuracy: 1.0000 - val_loss: 0.0892 - val_sparse_categorical_accuracy: 0.9833\n",
            "Epoch 38/200\n",
            "59/59 [==============================] - 1s 15ms/step - loss: 1.4777e-05 - sparse_categorical_accuracy: 1.0000 - val_loss: 0.0896 - val_sparse_categorical_accuracy: 0.9832\n",
            "Epoch 39/200\n",
            "59/59 [==============================] - 1s 15ms/step - loss: 1.3883e-05 - sparse_categorical_accuracy: 1.0000 - val_loss: 0.0901 - val_sparse_categorical_accuracy: 0.9833\n",
            "Epoch 40/200\n",
            "59/59 [==============================] - 1s 14ms/step - loss: 1.3035e-05 - sparse_categorical_accuracy: 1.0000 - val_loss: 0.0906 - val_sparse_categorical_accuracy: 0.9832\n",
            "Epoch 41/200\n",
            "59/59 [==============================] - 1s 13ms/step - loss: 1.2260e-05 - sparse_categorical_accuracy: 1.0000 - val_loss: 0.0911 - val_sparse_categorical_accuracy: 0.9834\n",
            "Epoch 42/200\n",
            "59/59 [==============================] - 1s 13ms/step - loss: 1.1643e-05 - sparse_categorical_accuracy: 1.0000 - val_loss: 0.0915 - val_sparse_categorical_accuracy: 0.9835\n",
            "Epoch 43/200\n",
            "59/59 [==============================] - 1s 14ms/step - loss: 1.0983e-05 - sparse_categorical_accuracy: 1.0000 - val_loss: 0.0920 - val_sparse_categorical_accuracy: 0.9835\n",
            "Epoch 44/200\n",
            "59/59 [==============================] - 1s 13ms/step - loss: 1.0337e-05 - sparse_categorical_accuracy: 1.0000 - val_loss: 0.0926 - val_sparse_categorical_accuracy: 0.9834\n",
            "Epoch 45/200\n",
            "59/59 [==============================] - 1s 14ms/step - loss: 9.7223e-06 - sparse_categorical_accuracy: 1.0000 - val_loss: 0.0928 - val_sparse_categorical_accuracy: 0.9833\n",
            "Epoch 46/200\n",
            "59/59 [==============================] - 1s 13ms/step - loss: 9.2117e-06 - sparse_categorical_accuracy: 1.0000 - val_loss: 0.0939 - val_sparse_categorical_accuracy: 0.9833\n",
            "Epoch 47/200\n",
            "59/59 [==============================] - 1s 13ms/step - loss: 8.7348e-06 - sparse_categorical_accuracy: 1.0000 - val_loss: 0.0942 - val_sparse_categorical_accuracy: 0.9832\n",
            "Epoch 48/200\n",
            "59/59 [==============================] - 1s 13ms/step - loss: 8.2500e-06 - sparse_categorical_accuracy: 1.0000 - val_loss: 0.0945 - val_sparse_categorical_accuracy: 0.9835\n",
            "Epoch 49/200\n",
            "59/59 [==============================] - 1s 13ms/step - loss: 7.8274e-06 - sparse_categorical_accuracy: 1.0000 - val_loss: 0.0949 - val_sparse_categorical_accuracy: 0.9835\n",
            "Epoch 50/200\n",
            "59/59 [==============================] - 1s 13ms/step - loss: 7.4163e-06 - sparse_categorical_accuracy: 1.0000 - val_loss: 0.0951 - val_sparse_categorical_accuracy: 0.9834\n",
            "Epoch 51/200\n",
            "59/59 [==============================] - 1s 13ms/step - loss: 7.0220e-06 - sparse_categorical_accuracy: 1.0000 - val_loss: 0.0956 - val_sparse_categorical_accuracy: 0.9834\n",
            "Epoch 52/200\n",
            "59/59 [==============================] - 1s 14ms/step - loss: 6.6625e-06 - sparse_categorical_accuracy: 1.0000 - val_loss: 0.0963 - val_sparse_categorical_accuracy: 0.9834\n"
          ]
        }
      ],
      "source": [
        "#baseline model with 5 layers\n",
        "baseline_model = tf.keras.models.Sequential([\n",
        "        tf.keras.layers.Dense(1024, input_shape=(28*28,),activation='relu', kernel_initializer='he_normal'),\n",
        "        tf.keras.layers.Dense(1024, activation='relu', kernel_initializer='he_normal'),\n",
        "        tf.keras.layers.Dense(1024, activation='relu', kernel_initializer='he_normal'),\n",
        "        tf.keras.layers.Dense(1024, activation='relu', kernel_initializer='he_normal'),\n",
        "        tf.keras.layers.Dense(1024, activation='relu', kernel_initializer='he_normal'),\n",
        "        tf.keras.layers.Dense(10, activation=None, kernel_initializer='he_normal') ])\n",
        "\n",
        "# Define early stopping\n",
        "early_stopping = tf.keras.callbacks.EarlyStopping(monitor='val_sparse_categorical_accuracy', patience=40, restore_best_weights=True)\n",
        "\n",
        "baseline_model.compile(optimizer=tf.keras.optimizers.Adam(0.0003),\n",
        "              loss = tf.keras.losses.SparseCategoricalCrossentropy(from_logits=True),\n",
        "              metrics = [tf.keras.metrics.SparseCategoricalAccuracy()])\n",
        "\n",
        "baseline_his = baseline_model.fit(x=x_train, y=y_train, batch_size = 1024, epochs=200,validation_data=(x_test,y_test),callbacks=[early_stopping])"
      ]
    },
    {
      "cell_type": "code",
      "execution_count": null,
      "metadata": {
        "colab": {
          "base_uri": "https://localhost:8080/",
          "height": 367
        },
        "id": "g87YhT_YiCdh",
        "outputId": "8204f4b9-2c7e-4d6b-98ac-ad22debf9888"
      },
      "outputs": [
        {
          "data": {
            "image/png": "[encoded data removed]",
            "text/plain": [
              "<Figure size 450x360 with 1 Axes>"
            ]
          },
          "metadata": {},
          "output_type": "display_data"
        }
      ],
      "source": [
        "baseline_acc = [acc*100 for acc in baseline_his.history['val_sparse_categorical_accuracy']]\n",
        "plt.figure(figsize=(5, 4),dpi=90)\n",
        "plt.plot(baseline_acc)\n",
        "plt.yticks(np.array([92,94,96,98,100]))\n",
        "plt.title('Baseline Model Accuracy')\n",
        "plt.xlabel('Epochs')\n",
        "plt.ylabel('Test Accuracy')\n",
        "plt.tight_layout()\n",
        "plt.show()"
      ]
    },
    {
      "cell_type": "code",
      "execution_count": null,
      "metadata": {
        "id": "njTTu9NPiIqK"
      },
      "outputs": [],
      "source": [
        "#save weights\n",
        "file_name = data_folder+'baseline_p1.h5'\n",
        "baseline_model.save_weights(file_name)\n",
        "\n",
        "#save model history\n",
        "history_dict = baseline_his.history\n",
        "\n",
        "# Save it to a JSON file\n",
        "with open(data_folder+'baseline_p1_history.json', 'w') as file:\n",
        "    json.dump(history_dict, file)"
      ]
    },
    {
      "cell_type": "code",
      "execution_count": null,
      "metadata": {
        "id": "Ssqh0T53nAv3"
      },
      "outputs": [],
      "source": [
        "#define model to load weights\n",
        "#baseline model with 5 layers\n",
        "baseline_model = tf.keras.models.Sequential([\n",
        "        tf.keras.layers.Dense(1024, input_shape=(28*28,),activation='relu', kernel_initializer='he_normal'),\n",
        "        tf.keras.layers.Dense(1024, activation='relu', kernel_initializer='he_normal'),\n",
        "        tf.keras.layers.Dense(1024, activation='relu', kernel_initializer='he_normal'),\n",
        "        tf.keras.layers.Dense(1024, activation='relu', kernel_initializer='he_normal'),\n",
        "        tf.keras.layers.Dense(1024, activation='relu', kernel_initializer='he_normal'),\n",
        "        tf.keras.layers.Dense(10, activation=None, kernel_initializer='he_normal') ])\n",
        "\n",
        "# Define early stopping based\n",
        "early_stopping = tf.keras.callbacks.EarlyStopping(monitor='val_sparse_categorical_accuracy', patience=40, restore_best_weights=True)\n",
        "\n",
        "baseline_model.compile(optimizer=tf.keras.optimizers.Adam(0.0003),\n",
        "              loss = tf.keras.losses.SparseCategoricalCrossentropy(from_logits=True),\n",
        "              metrics = [tf.keras.metrics.SparseCategoricalAccuracy()])"
      ]
    },
    {
      "cell_type": "code",
      "execution_count": null,
      "metadata": {
        "id": "16bdH-nXFt3e"
      },
      "outputs": [],
      "source": [
        "baseline_model.load_weights(data_folder+'baseline_p1.h5')\n",
        "\n",
        "with open(data_folder+'baseline_p1_history.json') as file:\n",
        "    baseline_history = json.load(file)"
      ]
    },
    {
      "cell_type": "code",
      "execution_count": null,
      "metadata": {
        "id": "v0BVIsNg8oL9"
      },
      "outputs": [],
      "source": [
        "#SVD on weights\n",
        "usv_values = []\n",
        "baseline_biases = []\n",
        "#iterate through all layers except the last layer\n",
        "for layer in baseline_model.layers[:-1]:\n",
        "  #get weights and bias\n",
        "  W,bias = layer.get_weights()\n",
        "  #svd\n",
        "  s,u,v = tf.linalg.svd(W)\n",
        "  usv_values.append((u,s,v))\n",
        "  baseline_biases.append(bias)"
      ]
    },
    {
      "cell_type": "code",
      "execution_count": null,
      "metadata": {
        "id": "ZRJ9zfvB9Iq7"
      },
      "outputs": [],
      "source": [
        "D_values = [10,20,50,100,200,1024]"
      ]
    },
    {
      "cell_type": "code",
      "execution_count": null,
      "metadata": {
        "id": "bsq3tgpM9J13"
      },
      "outputs": [],
      "source": [
        "#Define custom SVD layer with U,S and V matrices\n",
        "class SVDLayer(tf.keras.layers.Layer):\n",
        "  def __init__(self,U,S,V,D,bias):\n",
        "    super().__init__()\n",
        "    self.U = tf.keras.initializers.constant(U)\n",
        "    self.S = tf.keras.initializers.constant(S)\n",
        "    self.V = tf.keras.initializers.constant(V)\n",
        "    self.D = D\n",
        "    self.bias = tf.keras.initializers.constant(bias)\n",
        "\n",
        "  #build U,S and V\n",
        "  def build(self,input_shape):\n",
        "    self.U = self.add_weight(shape=[input_shape[-1],self.D],initializer = self.U)\n",
        "    self.S= self.add_weight(shape=[self.D,],initializer = self.S)\n",
        "    self.V = self.add_weight(shape= [self.D, 1024],initializer = self.V)\n",
        "    self.bias = self.add_weight(shape=[1024,],initializer=self.bias)\n",
        "\n",
        "  #feed forward\n",
        "  def call(self,x):\n",
        "    v_l = tf.linalg.diag(self.S)@self.V\n",
        "    W_hat = self.U@v_l\n",
        "    return tf.nn.relu(tf.nn.bias_add(x@W_hat, self.bias))\n",
        "\n"
      ]
    },
    {
      "cell_type": "code",
      "execution_count": null,
      "metadata": {
        "colab": {
          "base_uri": "https://localhost:8080/"
        },
        "id": "9OKpZyUEBKmN",
        "outputId": "32749d1f-6c2f-454b-8439-b9aa86a2ecff"
      },
      "outputs": [
        {
          "name": "stdout",
          "output_type": "stream",
          "text": [
            "Model Params with D=10:\n",
            "Model: \"model_6\"\n",
            "_________________________________________________________________\n",
            " Layer (type)                Output Shape              Param #   \n",
            "=================================================================\n",
            " input_7 (InputLayer)        [(None, 784)]             0         \n",
            "                                                                 \n",
            " svd_layer_30 (SVDLayer)     (None, 1024)              19114     \n",
            "                                                                 \n",
            " svd_layer_31 (SVDLayer)     (None, 1024)              21514     \n",
            "                                                                 \n",
            " svd_layer_32 (SVDLayer)     (None, 1024)              21514     \n",
            "                                                                 \n",
            " svd_layer_33 (SVDLayer)     (None, 1024)              21514     \n",
            "                                                                 \n",
            " svd_layer_34 (SVDLayer)     (None, 1024)              21514     \n",
            "                                                                 \n",
            " dense_12 (Dense)            (None, 10)                10250     \n",
            "                                                                 \n",
            "=================================================================\n",
            "Total params: 115420 (450.86 KB)\n",
            "Trainable params: 115420 (450.86 KB)\n",
            "Non-trainable params: 0 (0.00 Byte)\n",
            "_________________________________________________________________\n",
            "None\n",
            "\n",
            "\n",
            "Model Params with D=20:\n",
            "Model: \"model_7\"\n",
            "_________________________________________________________________\n",
            " Layer (type)                Output Shape              Param #   \n",
            "=================================================================\n",
            " input_8 (InputLayer)        [(None, 784)]             0         \n",
            "                                                                 \n",
            " svd_layer_35 (SVDLayer)     (None, 1024)              37204     \n",
            "                                                                 \n",
            " svd_layer_36 (SVDLayer)     (None, 1024)              42004     \n",
            "                                                                 \n",
            " svd_layer_37 (SVDLayer)     (None, 1024)              42004     \n",
            "                                                                 \n",
            " svd_layer_38 (SVDLayer)     (None, 1024)              42004     \n",
            "                                                                 \n",
            " svd_layer_39 (SVDLayer)     (None, 1024)              42004     \n",
            "                                                                 \n",
            " dense_13 (Dense)            (None, 10)                10250     \n",
            "                                                                 \n",
            "=================================================================\n",
            "Total params: 215470 (841.68 KB)\n",
            "Trainable params: 215470 (841.68 KB)\n",
            "Non-trainable params: 0 (0.00 Byte)\n",
            "_________________________________________________________________\n",
            "None\n",
            "\n",
            "\n",
            "Model Params with D=50:\n",
            "Model: \"model_8\"\n",
            "_________________________________________________________________\n",
            " Layer (type)                Output Shape              Param #   \n",
            "=================================================================\n",
            " input_9 (InputLayer)        [(None, 784)]             0         \n",
            "                                                                 \n",
            " svd_layer_40 (SVDLayer)     (None, 1024)              91474     \n",
            "                                                                 \n",
            " svd_layer_41 (SVDLayer)     (None, 1024)              103474    \n",
            "                                                                 \n",
            " svd_layer_42 (SVDLayer)     (None, 1024)              103474    \n",
            "                                                                 \n",
            " svd_layer_43 (SVDLayer)     (None, 1024)              103474    \n",
            "                                                                 \n",
            " svd_layer_44 (SVDLayer)     (None, 1024)              103474    \n",
            "                                                                 \n",
            " dense_14 (Dense)            (None, 10)                10250     \n",
            "                                                                 \n",
            "=================================================================\n",
            "Total params: 515620 (1.97 MB)\n",
            "Trainable params: 515620 (1.97 MB)\n",
            "Non-trainable params: 0 (0.00 Byte)\n",
            "_________________________________________________________________\n",
            "None\n",
            "\n",
            "\n",
            "Model Params with D=100:\n",
            "Model: \"model_9\"\n",
            "_________________________________________________________________\n",
            " Layer (type)                Output Shape              Param #   \n",
            "=================================================================\n",
            " input_10 (InputLayer)       [(None, 784)]             0         \n",
            "                                                                 \n",
            " svd_layer_45 (SVDLayer)     (None, 1024)              181924    \n",
            "                                                                 \n",
            " svd_layer_46 (SVDLayer)     (None, 1024)              205924    \n",
            "                                                                 \n",
            " svd_layer_47 (SVDLayer)     (None, 1024)              205924    \n",
            "                                                                 \n",
            " svd_layer_48 (SVDLayer)     (None, 1024)              205924    \n",
            "                                                                 \n",
            " svd_layer_49 (SVDLayer)     (None, 1024)              205924    \n",
            "                                                                 \n",
            " dense_15 (Dense)            (None, 10)                10250     \n",
            "                                                                 \n",
            "=================================================================\n",
            "Total params: 1015870 (3.88 MB)\n",
            "Trainable params: 1015870 (3.88 MB)\n",
            "Non-trainable params: 0 (0.00 Byte)\n",
            "_________________________________________________________________\n",
            "None\n",
            "\n",
            "\n",
            "Model Params with D=200:\n",
            "Model: \"model_10\"\n",
            "_________________________________________________________________\n",
            " Layer (type)                Output Shape              Param #   \n",
            "=================================================================\n",
            " input_11 (InputLayer)       [(None, 784)]             0         \n",
            "                                                                 \n",
            " svd_layer_50 (SVDLayer)     (None, 1024)              362824    \n",
            "                                                                 \n",
            " svd_layer_51 (SVDLayer)     (None, 1024)              410824    \n",
            "                                                                 \n",
            " svd_layer_52 (SVDLayer)     (None, 1024)              410824    \n",
            "                                                                 \n",
            " svd_layer_53 (SVDLayer)     (None, 1024)              410824    \n",
            "                                                                 \n",
            " svd_layer_54 (SVDLayer)     (None, 1024)              410824    \n",
            "                                                                 \n",
            " dense_16 (Dense)            (None, 10)                10250     \n",
            "                                                                 \n",
            "=================================================================\n",
            "Total params: 2016370 (7.69 MB)\n",
            "Trainable params: 2016370 (7.69 MB)\n",
            "Non-trainable params: 0 (0.00 Byte)\n",
            "_________________________________________________________________\n",
            "None\n",
            "\n",
            "\n",
            "Model Params with D=1024:\n",
            "Model: \"model_11\"\n",
            "_________________________________________________________________\n",
            " Layer (type)                Output Shape              Param #   \n",
            "=================================================================\n",
            " input_12 (InputLayer)       [(None, 784)]             0         \n",
            "                                                                 \n",
            " svd_layer_55 (SVDLayer)     (None, 1024)              1419280   \n",
            "                                                                 \n",
            " svd_layer_56 (SVDLayer)     (None, 1024)              2099200   \n",
            "                                                                 \n",
            " svd_layer_57 (SVDLayer)     (None, 1024)              2099200   \n",
            "                                                                 \n",
            " svd_layer_58 (SVDLayer)     (None, 1024)              2099200   \n",
            "                                                                 \n",
            " svd_layer_59 (SVDLayer)     (None, 1024)              2099200   \n",
            "                                                                 \n",
            " dense_17 (Dense)            (None, 10)                10250     \n",
            "                                                                 \n",
            "=================================================================\n",
            "Total params: 9826330 (37.48 MB)\n",
            "Trainable params: 9826330 (37.48 MB)\n",
            "Non-trainable params: 0 (0.00 Byte)\n",
            "_________________________________________________________________\n",
            "None\n",
            "\n",
            "\n"
          ]
        }
      ],
      "source": [
        "d_accuracies = []\n",
        "\n",
        "model_params = []\n",
        "#iterate through D values\n",
        "for d in D_values:\n",
        "  layer_params = []\n",
        "  total_params = 0\n",
        "  #define input tensor with shape\n",
        "  input_tensor = tf.keras.layers.Input(shape=(784,))\n",
        "  x = input_tensor\n",
        "  #iterate through 5 dense layers\n",
        "  for idx in range(5):\n",
        "    #when D = Dfull, make d = 784 for first layer\n",
        "    if d==1024 and idx==0:\n",
        "      d_hat = 784\n",
        "    else:\n",
        "      d_hat = d\n",
        "\n",
        "    u,s,v = usv_values[idx]\n",
        "    u = u[:,:d_hat]\n",
        "    s = s[:d_hat]\n",
        "    v = tf.transpose(v[:,:d_hat])\n",
        "    bias = baseline_biases[idx]\n",
        "    #build svd layer\n",
        "    x = SVDLayer(u,s,v,d_hat,bias)(x)\n",
        "\n",
        "    #calculate layer params\n",
        "    #for first layer\n",
        "    if idx==0:\n",
        "      curr_params = (784*d_hat) + d_hat + (d_hat*1024) + 1024 #bias\n",
        "    else:\n",
        "      curr_params = (1024*d_hat) + d_hat + (d_hat*1024) + 1024 #bias\n",
        "\n",
        "    layer_params.append(curr_params)\n",
        "    total_params += curr_params\n",
        "\n",
        "\n",
        "  #build last layer\n",
        "  x = tf.keras.layers.Dense(10)(x)\n",
        "  last_layer_params = 1024*10 + 10\n",
        "\n",
        "  layer_params.append(last_layer_params)\n",
        "  total_params += last_layer_params\n",
        "\n",
        "  model_params.append((layer_params,total_params))\n",
        "  svd_model = tf.keras.models.Model(inputs=input_tensor,outputs=x)\n",
        "\n",
        "  svd_model.compile(optimizer=tf.keras.optimizers.Adam(0.0003),\n",
        "                          loss = tf.keras.losses.SparseCategoricalCrossentropy(from_logits=True),\n",
        "                            metrics = [tf.keras.metrics.SparseCategoricalAccuracy()])\n",
        "  #set last layer weights\n",
        "  svd_model.layers[-1].set_weights(baseline_model.layers[-1].get_weights())\n",
        "\n",
        "  print(f'Model Params with D={d}:')\n",
        "  print(svd_model.summary())\n",
        "  print('\\n')\n",
        "\n",
        "  #calculate test accuracy\n",
        "  loss, acc = svd_model.evaluate(x_test, y_test, verbose=0)\n",
        "\n",
        "  d_accuracies.append(acc*100)"
      ]
    },
    {
      "cell_type": "code",
      "execution_count": null,
      "metadata": {
        "colab": {
          "base_uri": "https://localhost:8080/"
        },
        "id": "KFteu2N7xPn1",
        "outputId": "210fc291-7dad-4597-9184-3a7301cdcb3b"
      },
      "outputs": [
        {
          "name": "stdout",
          "output_type": "stream",
          "text": [
            "Model: \"sequential\"\n",
            "_________________________________________________________________\n",
            " Layer (type)                Output Shape              Param #   \n",
            "=================================================================\n",
            " dense (Dense)               (None, 1024)              803840    \n",
            "                                                                 \n",
            " dense_1 (Dense)             (None, 1024)              1049600   \n",
            "                                                                 \n",
            " dense_2 (Dense)             (None, 1024)              1049600   \n",
            "                                                                 \n",
            " dense_3 (Dense)             (None, 1024)              1049600   \n",
            "                                                                 \n",
            " dense_4 (Dense)             (None, 1024)              1049600   \n",
            "                                                                 \n",
            " dense_5 (Dense)             (None, 10)                10250     \n",
            "                                                                 \n",
            "=================================================================\n",
            "Total params: 5012490 (19.12 MB)\n",
            "Trainable params: 5012490 (19.12 MB)\n",
            "Non-trainable params: 0 (0.00 Byte)\n",
            "_________________________________________________________________\n"
          ]
        }
      ],
      "source": [
        "#baseline params\n",
        "baseline_model.summary()"
      ]
    },
    {
      "cell_type": "code",
      "execution_count": null,
      "metadata": {
        "colab": {
          "base_uri": "https://localhost:8080/"
        },
        "id": "Ff-L7eX4BnAe",
        "outputId": "e164d4e5-b1ab-40ad-94ff-939aea165b7a"
      },
      "outputs": [
        {
          "name": "stdout",
          "output_type": "stream",
          "text": [
            "Model Paramters\n",
            "Layer      D=10 Model    D=20 Model    D=50 Model      D=100 Model    D=200 Model   D=1024 Model\n",
            "Layer 1      19114        37204          91474           181924        362824        1419280\n",
            "Layer 2      21514        42004          103474           205924        410824        2099200\n",
            "Layer 3      21514        42004          103474           205924        410824        2099200\n",
            "Layer 4      21514        42004          103474           205924        410824        2099200\n",
            "Layer 5      21514        42004          103474           205924        410824        2099200\n",
            "Layer 6      10250        10250          10250           10250        10250        10250\n",
            "\n",
            "\n",
            "Total      115420        215470          515620           1015870        2016370        9826330\n"
          ]
        }
      ],
      "source": [
        "print('Model Paramters')\n",
        "print('Layer      D=10 Model    D=20 Model    D=50 Model      D=100 Model    D=200 Model   D=1024 Model')\n",
        "for idx in range(6):\n",
        "  print(f'''Layer {idx+1}      {model_params[0][0][idx]}        {model_params[1][0][idx]}          {model_params[2][0][idx]}           {model_params[3][0][idx]}        {model_params[4][0][idx]}        {model_params[5][0][idx]}''')\n",
        "print('\\n')\n",
        "print(f'''Total      {model_params[0][1]}        {model_params[1][1]}          {model_params[2][1]}           {model_params[3][1]}        {model_params[4][1]}        {model_params[5][1]}''')"
      ]
    },
    {
      "cell_type": "markdown",
      "metadata": {
        "id": "kP5HMhEyxktc"
      },
      "source": [
        "### Network Parameters\n",
        "- For the baseline model, parameters for any layer are calculated as (input_layer_features * units) + units (for bias).\n",
        "\n",
        " - For compressed models, the parameter calculations are as follows:\n",
        "    - First layer: (784 * D) + D + (D*1024) + 1024 - here D is 784 when D=1024 else D=D\n",
        "    - Other layers except last layer: (1024 * D) + D + (D*1024) + 1024\n",
        "    - Last layer: (1024 * 10) + 10\n",
        "    - In above expressions, first term is U, second is S, third is V and fourth is the bias.\n",
        "\n",
        "\n",
        "- From the above table and the previous cell (from model summaries), it's evident that the number of parameters in models with smaller D values is just a fraction of the total parameters in the baseline model. This results in a significant reduction in model size, typically measured in kilobytes (KB) to less than 5 megabytes (MB) (for D=10 to D=100) when compared with baseline model which takes 19MB . This demonstrates a substantial level of network compression, albeit with a trade-off in accuracy.\n",
        "\n",
        "- Accuracies are presented below, and it's observed that when D=10, accuracy is lower, but as D value increases, accuracy approaches the baseline accuracy, indicating that larger D values can mitigate the trade-off in accuracy.\n"
      ]
    },
    {
      "cell_type": "code",
      "execution_count": null,
      "metadata": {
        "colab": {
          "base_uri": "https://localhost:8080/",
          "height": 593
        },
        "id": "gBSlQRkoJehp",
        "outputId": "1f9dd8e4-de26-44bf-b397-745ef678d0db"
      },
      "outputs": [
        {
          "name": "stdout",
          "output_type": "stream",
          "text": [
            "Baseline Accuracy: 98.34%\n",
            "D=10 Accuracy: 28.99%\n",
            "D=20 Accuracy: 39.36%\n",
            "D=50 Accuracy: 56.14%\n",
            "D=100 Accuracy: 73.44%\n",
            "D=200 Accuracy: 89.22%\n",
            "D=1024 Accuracy: 98.37%\n"
          ]
        },
        {
          "data": {
            "image/png": "[encoded data removed]",
            "text/plain": [
              "<Figure size 640x480 with 1 Axes>"
            ]
          },
          "metadata": {},
          "output_type": "display_data"
        }
      ],
      "source": [
        "#Report Accuracies\n",
        "# Baseline Accuracy\n",
        "baseline_accuracy = 100 * baseline_history['val_sparse_categorical_accuracy'][-1]\n",
        "print(f\"Baseline Accuracy: {baseline_accuracy:.2f}%\")\n",
        "\n",
        "# Plot baseline accuracy\n",
        "plt.bar(\"Baseline\", baseline_accuracy, color='blue')\n",
        "\n",
        "for D, acc in zip(D_values, d_accuracies):\n",
        "    print(f\"D={D} Accuracy: {acc:.2f}%\")\n",
        "    # Plot accuracy for each D value\n",
        "    plt.bar(f\"D={D}\", acc)\n",
        "\n",
        "plt.xlabel(\"Model\")\n",
        "plt.ylabel(\"Accuracy (%)\")\n",
        "plt.title(\"Accuracy Comparison\")\n",
        "plt.ylim(0, 100)\n",
        "plt.grid(axis='y', linestyle='--')\n",
        "plt.show()"
      ]
    },
    {
      "cell_type": "markdown",
      "metadata": {
        "id": "OX9V3nygvEnG"
      },
      "source": [
        "# Training Compressed Network using SVD"
      ]
    },
    {
      "cell_type": "code",
      "execution_count": null,
      "metadata": {
        "id": "5PLUmHxCvGln"
      },
      "outputs": [],
      "source": [
        "#create customer feedforward layer\n",
        "class FeedForwardSVDLayer(tf.keras.layers.Layer):\n",
        "  def __init__(self,units,baseline_weights,d):\n",
        "    super().__init__()\n",
        "    self.units = units\n",
        "    self.d = d\n",
        "    self.W = tf.keras.initializers.Constant(baseline_weights[0])\n",
        "    self.b = tf.keras.initializers.Constant(baseline_weights[1])\n",
        "\n",
        "  #build weights\n",
        "  def build(self,input_shape):\n",
        "    self.kernel = self.add_weight(shape=[input_shape[-1],self.units],initializer= self.W)\n",
        "    self.bias = self.add_weight(shape =(self.units,),initializer = self.b)\n",
        "\n",
        "  #feed forward\n",
        "  def call(self,x):\n",
        "    #factorize weights or compress\n",
        "    s,u,v = tf.linalg.svd(self.kernel)\n",
        "    #compress and reconstruct the matrix\n",
        "    u = u[:,:self.d]\n",
        "    s = tf.linalg.diag(s[:self.d])\n",
        "    vt = tf.transpose(v[:,:self.d])\n",
        "    self.Wc = u@s@vt\n",
        "    #return output\n",
        "    return tf.nn.relu(tf.nn.bias_add(x@self.Wc, self.bias))\n",
        "\n",
        "  @property\n",
        "  def trainable_weights(self):\n",
        "      # Override to include compressed weights for gradient calculations\n",
        "      return [self.Wc, self.bias]"
      ]
    },
    {
      "cell_type": "code",
      "execution_count": null,
      "metadata": {
        "colab": {
          "base_uri": "https://localhost:8080/"
        },
        "id": "IqTrmX0Z7-Vx",
        "outputId": "473723e3-19f3-4a10-d7fc-c724f31bfebc"
      },
      "outputs": [
        {
          "name": "stdout",
          "output_type": "stream",
          "text": [
            "Model: \"sequential_14\"\n",
            "_________________________________________________________________\n",
            " Layer (type)                Output Shape              Param #   \n",
            "=================================================================\n",
            " feed_forward_svd_layer_45   (None, 1024)              803840    \n",
            " (FeedForwardSVDLayer)                                           \n",
            "                                                                 \n",
            " feed_forward_svd_layer_46   (None, 1024)              1049600   \n",
            " (FeedForwardSVDLayer)                                           \n",
            "                                                                 \n",
            " feed_forward_svd_layer_47   (None, 1024)              1049600   \n",
            " (FeedForwardSVDLayer)                                           \n",
            "                                                                 \n",
            " feed_forward_svd_layer_48   (None, 1024)              1049600   \n",
            " (FeedForwardSVDLayer)                                           \n",
            "                                                                 \n",
            " feed_forward_svd_layer_49   (None, 1024)              1049600   \n",
            " (FeedForwardSVDLayer)                                           \n",
            "                                                                 \n",
            " dense_41 (Dense)            (None, 10)                10250     \n",
            "                                                                 \n",
            "=================================================================\n",
            "Total params: 5012490 (19.12 MB)\n",
            "Trainable params: 5012490 (19.12 MB)\n",
            "Non-trainable params: 0 (0.00 Byte)\n",
            "_________________________________________________________________\n"
          ]
        }
      ],
      "source": [
        "# Define and compile the model\n",
        "ff_svd_model = tf.keras.models.Sequential()\n",
        "ff_svd_model.add(tf.keras.layers.InputLayer(input_shape=(784,)))\n",
        "\n",
        "for layer in baseline_model.layers[:-1]:\n",
        "  ff_svd_model.add(FeedForwardSVDLayer(1024,layer.get_weights(),20))\n",
        "\n",
        "ff_svd_model.add(tf.keras.layers.Dense(10))\n",
        "ff_svd_model.layers[-1].set_weights(baseline_model.layers[-1].get_weights())\n",
        "\n",
        "ff_svd_model.compile(optimizer=tf.keras.optimizers.Adam(0.0001), loss = tf.keras.losses.SparseCategoricalCrossentropy(from_logits=True),\n",
        "                          metrics=['accuracy'])\n",
        "\n",
        "ff_svd_model.summary()"
      ]
    },
    {
      "cell_type": "code",
      "execution_count": null,
      "metadata": {
        "colab": {
          "base_uri": "https://localhost:8080/"
        },
        "id": "jMi48jSG_a0e",
        "outputId": "b2237159-b531-4bf1-f484-13facb186922"
      },
      "outputs": [
        {
          "name": "stdout",
          "output_type": "stream",
          "text": [
            "1/1 [==============================] - 4s 4s/step - loss: 1.8326 - accuracy: 0.3936\n"
          ]
        },
        {
          "data": {
            "text/plain": [
              "[1.832603096961975, 0.3935999870300293]"
            ]
          },
          "execution_count": 139,
          "metadata": {},
          "output_type": "execute_result"
        }
      ],
      "source": [
        "#check if accuracy is same as baseline model with D=20\n",
        "ff_svd_model.evaluate(x_test,y_test,batch_size = 10000)\n",
        "\n",
        "#It's same - 39.36%"
      ]
    },
    {
      "cell_type": "code",
      "execution_count": null,
      "metadata": {
        "colab": {
          "base_uri": "https://localhost:8080/"
        },
        "id": "K46701w6IDxM",
        "outputId": "2857b801-b813-4dc5-8c23-a17c8816cacb"
      },
      "outputs": [
        {
          "name": "stdout",
          "output_type": "stream",
          "text": [
            "Epoch :1 ======>\n",
            "1/1 [==============================] - 3s 3s/step - loss: 0.2662 - accuracy: 0.9199\n",
            "Epoch :2 ======>\n",
            "1/1 [==============================] - 3s 3s/step - loss: 0.1909 - accuracy: 0.9420\n",
            "Epoch :3 ======>\n",
            "1/1 [==============================] - 4s 4s/step - loss: 0.1704 - accuracy: 0.9491\n",
            "Epoch :4 ======>\n",
            "1/1 [==============================] - 3s 3s/step - loss: 0.1529 - accuracy: 0.9551\n",
            "Epoch :5 ======>\n",
            "1/1 [==============================] - 3s 3s/step - loss: 0.1398 - accuracy: 0.9577\n",
            "Epoch :6 ======>\n",
            "1/1 [==============================] - 3s 3s/step - loss: 0.1339 - accuracy: 0.9598\n",
            "Epoch :7 ======>\n",
            "1/1 [==============================] - 3s 3s/step - loss: 0.1455 - accuracy: 0.9546\n",
            "Epoch :8 ======>\n",
            "1/1 [==============================] - 3s 3s/step - loss: 0.1163 - accuracy: 0.9634\n",
            "Epoch :9 ======>\n",
            "1/1 [==============================] - 3s 3s/step - loss: 0.1118 - accuracy: 0.9653\n",
            "Epoch :10 ======>\n",
            "1/1 [==============================] - 3s 3s/step - loss: 0.1290 - accuracy: 0.9611\n",
            "Epoch :11 ======>\n",
            "1/1 [==============================] - 3s 3s/step - loss: 0.1088 - accuracy: 0.9683\n",
            "Epoch :12 ======>\n",
            "1/1 [==============================] - 3s 3s/step - loss: 0.1058 - accuracy: 0.9692\n",
            "Epoch :13 ======>\n",
            "1/1 [==============================] - 3s 3s/step - loss: 0.1066 - accuracy: 0.9678\n",
            "Epoch :14 ======>\n",
            "1/1 [==============================] - 3s 3s/step - loss: 0.1030 - accuracy: 0.9691\n",
            "Epoch :15 ======>\n",
            "1/1 [==============================] - 3s 3s/step - loss: 0.0993 - accuracy: 0.9702\n",
            "Epoch :16 ======>\n",
            "1/1 [==============================] - 3s 3s/step - loss: 0.0963 - accuracy: 0.9703\n",
            "Epoch :17 ======>\n",
            "1/1 [==============================] - 3s 3s/step - loss: 0.0964 - accuracy: 0.9694\n",
            "Epoch :18 ======>\n",
            "1/1 [==============================] - 3s 3s/step - loss: 0.0984 - accuracy: 0.9702\n",
            "Epoch :19 ======>\n",
            "1/1 [==============================] - 3s 3s/step - loss: 0.0944 - accuracy: 0.9713\n",
            "Epoch :20 ======>\n",
            "1/1 [==============================] - 3s 3s/step - loss: 0.0932 - accuracy: 0.9731\n"
          ]
        }
      ],
      "source": [
        "#Define loss function and optimizer\n",
        "loss_fn = tf.keras.losses.SparseCategoricalCrossentropy(from_logits=True)\n",
        "optimizer = tf.keras.optimizers.Adam(0.0001)\n",
        "\n",
        "#get original kernel and bias\n",
        "original_w = []\n",
        "for layer in ff_svd_model.layers:\n",
        "  original_w.append(layer.kernel)\n",
        "  original_w.append(layer.bias)\n",
        "\n",
        "#training loop\n",
        "batch_size = 1024\n",
        "for epoch in range(20):\n",
        "  for i in range(0, len(x_train), batch_size):\n",
        "        # print(i)\n",
        "        x_batch = x_train[i:i+batch_size]\n",
        "        y_batch = y_train[i:i+batch_size]\n",
        "        with tf.GradientTape() as tape:\n",
        "            predictions = ff_svd_model(x_batch)\n",
        "            loss = loss_fn(y_batch, predictions)\n",
        "\n",
        "        # Compute gradients w.r.t compressed weights (as trainable variables are overwritten by Wc and bias)\n",
        "        gradients = tape.gradient(loss, ff_svd_model.trainable_variables)\n",
        "\n",
        "        #apply gradients to original weights\n",
        "        optimizer.apply_gradients(zip(gradients, original_w))\n",
        "\n",
        "        del tape\n",
        "\n",
        "  print(f'Epoch :{epoch+1} ======>')\n",
        "  val_loss,val_acc = ff_svd_model.evaluate(x_test,y_test,batch_size=10000)"
      ]
    },
    {
      "cell_type": "code",
      "execution_count": null,
      "metadata": {
        "colab": {
          "base_uri": "https://localhost:8080/"
        },
        "id": "_9OyW_wRE_Sh",
        "outputId": "758a26ac-9fc2-4382-a183-0e4a0ea9019b"
      },
      "outputs": [
        {
          "name": "stdout",
          "output_type": "stream",
          "text": [
            "Model accuracy- running SVD at every epoch : 97.31%\n"
          ]
        }
      ],
      "source": [
        "#get test accuracy\n",
        "ff_svd_val_loss,ff_svd_val_acc = ff_svd_model.evaluate(x_test,y_test,batch_size=10000,verbose=0)\n",
        "print(f'Model accuracy- running SVD at every epoch : {ff_svd_val_acc*100:.2f}%')"
      ]
    },
    {
      "cell_type": "markdown",
      "metadata": {
        "id": "7k14ajBlgr1U"
      },
      "source": [
        "- By performing SVD at every epoch during training, accuracy of 97.31% is achieved. This accuracy is very close to the baseline model's accuracy of 98.34%, with only a minor reduction of 1.03%. This demonstrates that competitive accuracy can be achieved by factorizing the weight matrices at each epoch.\n",
        "- By doing this, we can do SVD on the original W and store only factorized weights which will have same accuracy achieving network compression which requires very less memory."
      ]
    }
  ],
  "metadata": {
    "accelerator": "GPU",
    "colab": {
      "provenance": []
    },
    "kernelspec": {
      "display_name": "Python 3",
      "name": "python3"
    },
    "language_info": {
      "name": "python"
    }
  },
  "nbformat": 4,
  "nbformat_minor": 0
}
